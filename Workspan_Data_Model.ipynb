{
  "cells": [
    {
      "cell_type": "markdown",
      "source": [
        "# Data Storage and Access Patterns (including Astra Vector Search)\n",
        "\n"
      ],
      "metadata": {
        "id": "-neIomNS4cl6"
      },
      "id": "-neIomNS4cl6"
    },
    {
      "cell_type": "markdown",
      "id": "2c1f964d-aa85-4b2f-a04c-71c295fe9d1e",
      "metadata": {
        "id": "2c1f964d-aa85-4b2f-a04c-71c295fe9d1e"
      },
      "source": [
        "# Table Schema\n",
        "\n",
        "```\n",
        "CREATE TABLE IF NOT EXISTS workspan.customer_opportunities (\n",
        "    customer_id text,\n",
        "    partner_id text,\n",
        "    opportunity_id text,\n",
        "    customer_name text static,\n",
        "    next_step text,\n",
        "    cadence text,\n",
        "    llm_output text,\n",
        "    opportunity map<text, text>,\n",
        "    llm_output_embedding vector<float, 1536>,\n",
        "    sentiment text,\n",
        "    PRIMARY KEY ((customer_id, partner_id), opportunity_id)\n",
        ") WITH CLUSTERING ORDER BY (opportunity_id DESC)\n",
        "\n",
        "```\n",
        "\n"
      ]
    },
    {
      "cell_type": "markdown",
      "source": [
        "* customer_id: Unique identifier for each customer\n",
        "* partner_id: AWS / Azure / GCP\n",
        "* opportunity_id: Unique identifier for each opportunity\n",
        "* opportunity: Dynamic collection of data field names and corresponding values specific to the opportunity. Other fields can be stored in separate table columns.\n",
        "* llm_ouput: LLM output summarizing the 'next steps' , 'challenges' and 'open items'  \n",
        "* llm_ouput_embedding: Text embeddings corresponding to llm_output\n",
        "* sentiment: Positive, Neutral and Negative sentiment derived from 'next step' and 'cadence' data fields. This can be determined either by using a sentiment analysis library such as  Python Natural Language Toolkit (NLTK) or from LLM.\n"
      ],
      "metadata": {
        "id": "L2pRI7iZN45b"
      },
      "id": "L2pRI7iZN45b"
    },
    {
      "cell_type": "markdown",
      "id": "25d08ec4-0e7b-4819-933f-43ed5ff95e48",
      "metadata": {
        "id": "25d08ec4-0e7b-4819-933f-43ed5ff95e48"
      },
      "source": [
        "# Imports"
      ]
    },
    {
      "cell_type": "code",
      "source": [
        "!pip install openai cassandra-driver llama-index"
      ],
      "metadata": {
        "id": "uMoWlVK8ryqd"
      },
      "id": "uMoWlVK8ryqd",
      "execution_count": null,
      "outputs": []
    },
    {
      "cell_type": "code",
      "source": [
        "from cassandra.cluster import Cluster\n",
        "from cassandra.auth import PlainTextAuthProvider\n",
        "from cassandra.query import dict_factory\n",
        "from cassandra.query import SimpleStatement\n",
        "import openai\n",
        "from llama_index import ListIndex\n",
        "from llama_index.readers.schema.base import Document\n",
        "from IPython.display import Markdown, display"
      ],
      "metadata": {
        "id": "ldfNIehRsB3W"
      },
      "id": "ldfNIehRsB3W",
      "execution_count": 2,
      "outputs": []
    },
    {
      "cell_type": "markdown",
      "id": "b7a93b64-e9e9-41d1-95c9-dc9194a5ec8d",
      "metadata": {
        "id": "b7a93b64-e9e9-41d1-95c9-dc9194a5ec8d"
      },
      "source": [
        "# Keys & Environment Variables"
      ]
    },
    {
      "cell_type": "code",
      "execution_count": 3,
      "id": "ebeb1df7-2dcc-4ba6-a941-49c68631bd49",
      "metadata": {
        "id": "ebeb1df7-2dcc-4ba6-a941-49c68631bd49"
      },
      "outputs": [],
      "source": [
        "# keys and tokens here\n",
        "openai_api_key = \"<openai_key>\"\n",
        "openai.api_key = openai_api_key\n",
        "cass_user = '<user>'\n",
        "cass_pw = '<pwd>'\n",
        "scb_path = 'secure-connect-vector-search-demo.zip'"
      ]
    },
    {
      "cell_type": "markdown",
      "id": "a96369f4-d311-44c2-8469-f960a2a8718a",
      "metadata": {
        "id": "a96369f4-d311-44c2-8469-f960a2a8718a"
      },
      "source": [
        "# Select a model to compute embeddings"
      ]
    },
    {
      "cell_type": "code",
      "execution_count": 4,
      "id": "553fece5-8154-4e18-9610-ff4999bfe171",
      "metadata": {
        "id": "553fece5-8154-4e18-9610-ff4999bfe171"
      },
      "outputs": [],
      "source": [
        "model_id = \"text-embedding-ada-002\""
      ]
    },
    {
      "cell_type": "markdown",
      "id": "bafd4fc1-84a4-4384-bb3e-42ecffab2455",
      "metadata": {
        "id": "bafd4fc1-84a4-4384-bb3e-42ecffab2455"
      },
      "source": [
        "# Connect to the Cluster"
      ]
    },
    {
      "cell_type": "code",
      "execution_count": null,
      "id": "8c5b0058-391d-421e-81a0-eb2f7fe684df",
      "metadata": {
        "id": "8c5b0058-391d-421e-81a0-eb2f7fe684df"
      },
      "outputs": [],
      "source": [
        "cloud_config= {\n",
        "  'secure_connect_bundle': scb_path\n",
        "}\n",
        "auth_provider = PlainTextAuthProvider(cass_user, cass_pw)\n",
        "cluster = Cluster(cloud=cloud_config, auth_provider=auth_provider)\n",
        "session = cluster.connect()\n",
        "session.set_keyspace('workspan')"
      ]
    },
    {
      "cell_type": "markdown",
      "id": "0670b30f-927f-47da-b71d-0a99092c3f58",
      "metadata": {
        "id": "0670b30f-927f-47da-b71d-0a99092c3f58"
      },
      "source": [
        "# Drop / Create Schema"
      ]
    },
    {
      "cell_type": "code",
      "execution_count": null,
      "id": "a941c487-1c6b-4f46-a0a3-305a95931d82",
      "metadata": {
        "id": "a941c487-1c6b-4f46-a0a3-305a95931d82"
      },
      "outputs": [],
      "source": [
        "\n",
        "# # Create Table\n",
        "session.execute(f\"\"\"CREATE TABLE IF NOT EXISTS workspan.customer_opportunities (\n",
        "    customer_id text,\n",
        "    partner_id text,\n",
        "    opportunity_id text,\n",
        "    customer_name text static,\n",
        "    next_step text,\n",
        "    cadence text,\n",
        "    llm_output text,\n",
        "    opportunity map<text, text>,\n",
        "    llm_output_embedding vector<float, 1536>,\n",
        "    sentiment text,\n",
        "    PRIMARY KEY ((customer_id, partner_id), opportunity_id)\n",
        ") WITH CLUSTERING ORDER BY (opportunity_id DESC)\"\"\")\n",
        "\n"
      ]
    },
    {
      "cell_type": "code",
      "source": [
        "session.execute(f\"\"\"CREATE CUSTOM INDEX ON workspan.customer_opportunities(opportunity) USING 'org.apache.cassandra.index.sai.StorageAttachedIndex'\"\"\")"
      ],
      "metadata": {
        "id": "KLI4U_JqpAfI"
      },
      "id": "KLI4U_JqpAfI",
      "execution_count": null,
      "outputs": []
    },
    {
      "cell_type": "code",
      "source": [
        "session.execute(f\"\"\"CREATE CUSTOM INDEX ON workspan.customer_opportunities (llm_output_embedding) USING 'org.apache.cassandra.index.sai.StorageAttachedIndex'\"\"\")"
      ],
      "metadata": {
        "id": "oeWFaC5Q5EjL"
      },
      "id": "oeWFaC5Q5EjL",
      "execution_count": null,
      "outputs": []
    },
    {
      "cell_type": "code",
      "source": [
        "session.execute(f\"\"\"CREATE CUSTOM INDEX ON workspan.customer_opportunities (sentiment) USING 'org.apache.cassandra.index.sai.StorageAttachedIndex'\"\"\")"
      ],
      "metadata": {
        "id": "qAx4jimW6PaQ"
      },
      "id": "qAx4jimW6PaQ",
      "execution_count": null,
      "outputs": []
    },
    {
      "cell_type": "markdown",
      "source": [
        "# Create the following SAI with analyser from CQL\n",
        "\n",
        "\n",
        "```\n",
        "CREATE CUSTOM INDEX ON workspan.customer_opportunities(llm_output) USING 'org.apache.cassandra.index.sai.StorageAttachedIndex' WITH OPTIONS = {'index_analyzer': '{\n",
        "\"tokenizer\" : {\"name\" : \"standard\"},\n",
        "\"filters\" : [{\"name\" : \"porterstem\"}] }'};\n",
        "```\n",
        "\n"
      ],
      "metadata": {
        "id": "BDLwp--lbTHa"
      },
      "id": "BDLwp--lbTHa"
    },
    {
      "cell_type": "markdown",
      "source": [
        "# Calculate the sentiment\n",
        "\n",
        "Sentiment can be calculated either by using a sentiment analysis library such as Python Natural Language Toolkit (NLTK) or from LLM."
      ],
      "metadata": {
        "id": "my8W1djmGEFZ"
      },
      "id": "my8W1djmGEFZ"
    },
    {
      "cell_type": "code",
      "source": [
        "def indentify_sentiment(next_step_and_cadence):\n",
        "    import nltk\n",
        "    from nltk.sentiment.vader import SentimentIntensityAnalyzer\n",
        "\n",
        "    nltk.download('vader_lexicon')\n",
        "    sid = SentimentIntensityAnalyzer()\n",
        "\n",
        "    sentiment_scores = sid.polarity_scores(next_step_and_cadence)\n",
        "    if sentiment_scores['compound'] >= 0.05:\n",
        "        sentiment = 'positive'\n",
        "    elif sentiment_scores['compound'] <= -0.05:\n",
        "        sentiment = 'negative'\n",
        "    else:\n",
        "        sentiment = 'neutral'\n",
        "\n",
        "    print(f\"Sentiment: {sentiment}\")\n",
        "    return sentiment\n"
      ],
      "metadata": {
        "id": "8IubYIEwNMvB"
      },
      "id": "8IubYIEwNMvB",
      "execution_count": 10,
      "outputs": []
    },
    {
      "cell_type": "markdown",
      "source": [
        "# Generate LLM ouput"
      ],
      "metadata": {
        "id": "SUVtAvlmGMTB"
      },
      "id": "SUVtAvlmGMTB"
    },
    {
      "cell_type": "code",
      "source": [
        "def extract_llm_information(next_step_and_cadence):\n",
        "    llm_input = f\"\"\"\n",
        "                Given the following information, please list out the challenges, next steps to schedule a meeting, and open items mentioned. Do not list 'next steps' if there is no follow-up meeting that needs to be scheduled or if it's mentioned that no further follow-up is required:\n",
        "\n",
        "                {next_step_and_cadence}\n",
        "\n",
        "                End of information.\n",
        "                \"\"\"\n",
        "\n",
        "    response = openai.ChatCompletion.create(\n",
        "        #model=\"gpt-3.5-turbo\",\n",
        "        model=\"gpt-4\",\n",
        "        messages=[\n",
        "            {\"role\": \"system\", \"content\": \"You are a helpful assistant. Use the instructions provided to process the information.\"},\n",
        "            {\"role\": \"user\", \"content\": llm_input}\n",
        "        ]\n",
        "    )\n",
        "\n",
        "    return response.choices[0].message['content']"
      ],
      "metadata": {
        "id": "jLKLn4xLMNQV"
      },
      "id": "jLKLn4xLMNQV",
      "execution_count": 23,
      "outputs": []
    },
    {
      "cell_type": "markdown",
      "source": [
        "# Insert records with the calculated sentiment and LLM embeddings"
      ],
      "metadata": {
        "id": "5BqlxWG-zSZc"
      },
      "id": "5BqlxWG-zSZc"
    },
    {
      "cell_type": "code",
      "source": [
        "query = SimpleStatement(\n",
        "            f\"\"\"\n",
        "            INSERT INTO workspan.customer_opportunities\n",
        "            (customer_id, partner_id, opportunity_id, customer_name, llm_output,  opportunity , llm_output_embedding , sentiment )\n",
        "            VALUES (%s, %s, %s, %s, %s , %s , %s , %s )\n",
        "            \"\"\"\n",
        "        )\n",
        "\n",
        "# record #1\n",
        "\n",
        "next_step = f\"\"\"\n",
        "Action Items:\n",
        "From Michael, confirmed deprioritize. From Anjaney, account executive interest to schedule meeting - Anjaney to schedule call with Nirav/Amy on R&D.\n",
        "\"\"\"\n",
        "\n",
        "cadence = f\"\"\"\n",
        "Next Step:\n",
        "08/16/2023 : Review partner information updates and update opportunity details. 8/17(LR) - connecting with Partner to offer co-sell support\n",
        "\n",
        "Next Step History:\n",
        "null;08/16/2023 : Review partner information updates and update opportunity details.;08/16/2023 : Review partner information updates and update opportunity details. 8/17(LR) - connecting with Partner to offer co-sell support\n",
        "\"\"\"\n",
        "\n",
        "next_step_and_cadence = next_step + cadence\n",
        "\n",
        "sentiment = indentify_sentiment(next_step_and_cadence)\n",
        "llm_output = extract_llm_information(next_step_and_cadence)\n",
        "print(f\"{llm_output}/n\")\n",
        "embedding_llm_output = openai.Embedding.create(input= llm_output, model=model_id)['data'][0]['embedding']\n",
        "session.execute(query, ('CUS100' , 'AWS', 'WS-7202838a', 'Teradyne, Inc.', llm_output,  {'Customer State' : 'Ile-de-France', 'Customer Country' : 'France', 'Deal Size' : '30000', 'Description' : 'Pain Point: Persistent phishing attacks and email compromises leading to data leaks and compromised accounts. Description: The customer is struggling with the recurring threat of phishing attacks that infiltrate their systems, compromising sensitive data and risking the confidentiality of critical information.' }\n",
        "                        , embedding_llm_output , sentiment))\n",
        "\n",
        "# record #2\n",
        "\n",
        "next_step = f\"\"\"\n",
        "Action Items:\n",
        "From Autumn, send recording of last call and our discussed inputs from demo 8/28. Ramesh will provide to Caroline by early next week (of 9/11).\n",
        "\"\"\"\n",
        "\n",
        "cadence = f\"\"\"\n",
        "REVIEW TECH & Economic Proposal\n",
        "\"\"\"\n",
        "\n",
        "next_step_and_cadence = next_step + cadence\n",
        "\n",
        "sentiment = indentify_sentiment(next_step_and_cadence)\n",
        "llm_output = extract_llm_information(next_step_and_cadence)\n",
        "print(f\"{llm_output}/n\")\n",
        "embedding_llm_output = openai.Embedding.create(input= llm_output, model=model_id)['data'][0]['embedding']\n",
        "session.execute(query, ('CUS100' , 'AWS', 'WS-8a038b8a', 'Teradyne, Inc.', llm_output,  {'Customer State' : 'Ile-de-France', 'Customer Country' : 'France', 'Deal Size' : '30000', 'Description' : 'Pain Point: Persistent phishing attacks and email compromises leading to data leaks and compromised accounts. Description: The customer is struggling with the recurring threat of phishing attacks that infiltrate their systems, compromising sensitive data and risking the confidentiality of critical information.' }\n",
        "                        , embedding_llm_output , sentiment))\n",
        "\n",
        "# record #3\n",
        "\n",
        "next_step = f\"\"\"\n",
        "Action Items:\n",
        "Joint sync set for 9/7. Enablement session to follow + in person account mapping. Caroline / Michael to begin coordinating. EAI presence\n",
        "\"\"\"\n",
        "\n",
        "cadence = f\"\"\"\n",
        "07/05/2023: Contact Federico Gandolfo,federico.hernan.gandolfo@abc.com,+54.911.3204.4871 to discuss Deal support\n",
        "\"\"\"\n",
        "\n",
        "next_step_and_cadence = next_step + cadence\n",
        "\n",
        "sentiment = indentify_sentiment(next_step_and_cadence)\n",
        "llm_output = extract_llm_information(next_step_and_cadence)\n",
        "print(f\"{llm_output}/n\")\n",
        "embedding_llm_output = openai.Embedding.create(input= llm_output, model=model_id)['data'][0]['embedding']\n",
        "session.execute(query, ('CUS100' , 'AWS', 'WS-8a3b0348', 'Teradyne, Inc.', llm_output,  {'Customer State' : 'Ile-de-France', 'Customer Country' : 'France', 'Deal Size' : '30000', 'Description' : 'Pain Point: Persistent phishing attacks and email compromises leading to data leaks and compromised accounts. Description: The customer is struggling with the recurring threat of phishing attacks that infiltrate their systems, compromising sensitive data and risking the confidentiality of critical information.' }\n",
        "                        , embedding_llm_output , sentiment))\n",
        "\n",
        "# record #4\n",
        "\n",
        "next_step = f\"\"\"\n",
        "Action Items:\n",
        "From Caroline, user community engaged to respond to questions. @Dataiku - How can we get initial data from user community/pull together PoV for client? Action (Asan/Ken (sp?)): In-person outreach to Deloitte users and follow-up to 5 responses received.\n",
        "\"\"\"\n",
        "\n",
        "cadence = f\"\"\"\n",
        "null;06/20/2023: Contact Federico Gandolfo,federico.hernan.gandolfo@abc.com,+54.911.3204.4871 to discuss Deal support;07/05/2023: Contact Federico Gandolfo,federico.hernan.gandolfo@abc.com,+54.911.3204.4871 to discuss Deal support\n",
        "\"\"\"\n",
        "\n",
        "next_step_and_cadence = next_step + cadence\n",
        "\n",
        "sentiment = indentify_sentiment(next_step_and_cadence)\n",
        "llm_output = extract_llm_information(next_step_and_cadence)\n",
        "print(f\"{llm_output}/n\")\n",
        "embedding_llm_output = openai.Embedding.create(input= llm_output, model=model_id)['data'][0]['embedding']\n",
        "session.execute(query, ('CUS100' , 'AWS', 'WS-8a7128a3', 'Teradyne, Inc.', llm_output,  {'Customer State' : 'Ile-de-France', 'Customer Country' : 'France', 'Deal Size' : '30000', 'Description' : 'Pain Point: Persistent phishing attacks and email compromises leading to data leaks and compromised accounts. Description: The customer is struggling with the recurring threat of phishing attacks that infiltrate their systems, compromising sensitive data and risking the confidentiality of critical information.' }\n",
        "                        , embedding_llm_output , sentiment))\n",
        "\n",
        "# record #4\n",
        "\n",
        "next_step = f\"\"\"\n",
        "Propsal did not go thru. No budget Left. Negative.\n",
        "\"\"\"\n",
        "\n",
        "cadence = f\"\"\"\n",
        "No further follow up required.\n",
        "\"\"\"\n",
        "\n",
        "next_step_and_cadence = next_step + cadence\n",
        "\n",
        "sentiment = indentify_sentiment(next_step_and_cadence)\n",
        "llm_output = extract_llm_information(next_step_and_cadence)\n",
        "print(f\"{llm_output}/n\")\n",
        "embedding_llm_output = openai.Embedding.create(input= llm_output, model=model_id)['data'][0]['embedding']\n",
        "session.execute(query, ('CUS100' , 'AWS', 'WS-8a7128a4', 'Teradyne, Inc.', llm_output,  {'Customer State' : 'Ile-de-France', 'Customer Country' : 'France', 'Deal Size' : '30000', 'Description' : 'Pain Point: Persistent phishing attacks and email compromises leading to data leaks and compromised accounts. Description: The customer is struggling with the recurring threat of phishing attacks that infiltrate their systems, compromising sensitive data and risking the confidentiality of critical information.' }\n",
        "                        , embedding_llm_output , sentiment))\n",
        "\n"
      ],
      "metadata": {
        "colab": {
          "base_uri": "https://localhost:8080/"
        },
        "id": "IedeKXPDv2Rv",
        "outputId": "5b73bd49-9eab-463c-f6f1-9066599f90c9"
      },
      "id": "IedeKXPDv2Rv",
      "execution_count": 24,
      "outputs": [
        {
          "output_type": "stream",
          "name": "stderr",
          "text": [
            "[nltk_data] Downloading package vader_lexicon to /root/nltk_data...\n",
            "[nltk_data]   Package vader_lexicon is already up-to-date!\n"
          ]
        },
        {
          "output_type": "stream",
          "name": "stdout",
          "text": [
            "Sentiment: positive\n",
            "Challenges:\n",
            "1. Michael: Need to deprioritize certain action items.\n",
            "\n",
            "Next Steps to Schedule a Meeting:\n",
            "1. Anjaney: Schedule call with Nirav/Amy on R&D.\n",
            "2. Next step on 08/16/2023: Review partner information updates and update opportunity details.\n",
            "3. LR on 08/17/2023: Connect with Partner to offer co-sell support.\n",
            "\n",
            "Open Items:\n",
            "1. Review and update of partner information.\n",
            "2. Update of opportunity details.\n",
            "3. Connection with Partner for co-sell support./n\n",
            "Sentiment: neutral\n"
          ]
        },
        {
          "output_type": "stream",
          "name": "stderr",
          "text": [
            "[nltk_data] Downloading package vader_lexicon to /root/nltk_data...\n",
            "[nltk_data]   Package vader_lexicon is already up-to-date!\n"
          ]
        },
        {
          "output_type": "stream",
          "name": "stdout",
          "text": [
            "Challenges:\n",
            "1. Availability and coordination between Autumn, Ramesh, and Caroline.\n",
            "2. The need for Autumn to send the recording of the last call and the discussed inputs from demo 8/28. \n",
            "3. Reviewing the Tech & Economic Proposal.\n",
            "\n",
            "Next Steps:\n",
            "1. Autumn needs to send the recording and inputs to Ramesh. \n",
            "2. Ramesh needs to pass on the information to Caroline by the next week.\n",
            "\n",
            "Open Items:\n",
            "1. Autumn's recording and discussed inputs from the demo. \n",
            "2. Review of the Tech & Economic Proposal./n\n"
          ]
        },
        {
          "output_type": "stream",
          "name": "stderr",
          "text": [
            "[nltk_data] Downloading package vader_lexicon to /root/nltk_data...\n",
            "[nltk_data]   Package vader_lexicon is already up-to-date!\n"
          ]
        },
        {
          "output_type": "stream",
          "name": "stdout",
          "text": [
            "Sentiment: positive\n",
            "Challenges:\n",
            "1. Coordinating with Caroline and Michael for the joint sync set for 9/7.\n",
            "2. Organizing the enablement session that is to follow after the joint sync.\n",
            "3. Establishing EAI presence.\n",
            "4. Reaching out to Federico Gandolfo for deal support discussions.\n",
            "\n",
            "Next steps to schedule a meeting:\n",
            "1. Caroline and Michael to start organizing for the joint sync set for 9/7.\n",
            "2. Arrangement for the enablement session to follow after the sync.\n",
            "3. Contact Federico Gandolfo to discuss deal support.\n",
            "\n",
            "Open Items:\n",
            "1. Establishing EAI presence. \n",
            "2. Contacting Federico Gandolfo for deal support./n\n"
          ]
        },
        {
          "output_type": "stream",
          "name": "stderr",
          "text": [
            "[nltk_data] Downloading package vader_lexicon to /root/nltk_data...\n",
            "[nltk_data]   Package vader_lexicon is already up-to-date!\n"
          ]
        },
        {
          "output_type": "stream",
          "name": "stdout",
          "text": [
            "Sentiment: positive\n",
            "Challenges:\n",
            "1. Getting initial data from the user community.\n",
            "2. Pulling together a Point of View (PoV) for the client.\n",
            "3. Outreach to Deloitte users which is in-person.\n",
            "4. Follow up on the received 5 responses.\n",
            "\n",
            "Next Steps To Schedule A Meeting:\n",
            "1. On 06/20/2023, a meeting should be scheduled to contact Federico Gandolfo to discuss Deal support.\n",
            "2. On 07/05/2023, another meeting should be scheduled to contact Federico Gandolfo to discuss Deal support.\n",
            "\n",
            "Open Items:\n",
            "1. Engage the user community to respond to questions.\n",
            "2. Address the data gathering concern raised by @Dataiku.\n",
            "3. Plan and execute an in-person outreach to Deloitte users.\n",
            "4. Follow-up on the 5 responses received from Deloitte users.\n",
            "5. Discuss Deal support with Federico Gandolfo./n\n"
          ]
        },
        {
          "output_type": "stream",
          "name": "stderr",
          "text": [
            "[nltk_data] Downloading package vader_lexicon to /root/nltk_data...\n",
            "[nltk_data]   Package vader_lexicon is already up-to-date!\n"
          ]
        },
        {
          "output_type": "stream",
          "name": "stdout",
          "text": [
            "Sentiment: negative\n",
            "Challenges:\n",
            "1. Proposal did not go through.\n",
            "2. There is no remaining budget.\n",
            "\n",
            "Open items:\n",
            "None\n",
            "\n",
            "Next steps:\n",
            "None mentioned (No further follow up required)./n\n"
          ]
        },
        {
          "output_type": "execute_result",
          "data": {
            "text/plain": [
              "<cassandra.cluster.ResultSet at 0x7e3d25aa7ee0>"
            ]
          },
          "metadata": {},
          "execution_count": 24
        }
      ]
    },
    {
      "cell_type": "markdown",
      "source": [
        "# Opportunity Specific Queries"
      ],
      "metadata": {
        "id": "eFUGSeuhGZ2M"
      },
      "id": "eFUGSeuhGZ2M"
    },
    {
      "cell_type": "markdown",
      "source": [
        "What is the customer sentiment on this opportunity?"
      ],
      "metadata": {
        "id": "Ow36bzT-2r1s"
      },
      "id": "Ow36bzT-2r1s"
    },
    {
      "cell_type": "code",
      "source": [
        "cqlSelect = f'''SELECT * FROM workspan.customer_opportunities WHERE customer_id = 'CUS100' and partner_id = 'AWS' and opportunity_id = 'WS-7202838a'  ;'''\n",
        "rows = session.execute(cqlSelect)\n",
        "for row_i, row in enumerate(rows):\n",
        "    print(f'\\nRow {row_i}:')\n",
        "    print(f'    customer_id:      {row.customer_id}')\n",
        "    print(f'    partner_id:      {row.partner_id}')\n",
        "    print(f'    opportunity_id:      {row.opportunity_id}')\n",
        "    print(f'    customer_name:      {row.customer_name}')\n",
        "    print(f'    sentiment:      {row.sentiment}')\n",
        "\n",
        "print('\\n...')"
      ],
      "metadata": {
        "colab": {
          "base_uri": "https://localhost:8080/"
        },
        "id": "POI0ET0X2mai",
        "outputId": "718f353f-672a-40bb-8663-5fb342610682"
      },
      "id": "POI0ET0X2mai",
      "execution_count": 13,
      "outputs": [
        {
          "output_type": "stream",
          "name": "stdout",
          "text": [
            "\n",
            "Row 0:\n",
            "    customer_id:      CUS100\n",
            "    partner_id:      AWS\n",
            "    opportunity_id:      WS-7202838a\n",
            "    customer_name:      Teradyne, Inc.\n",
            "    sentiment:      positive\n",
            "\n",
            "...\n"
          ]
        }
      ]
    },
    {
      "cell_type": "markdown",
      "source": [
        "What are the next steps for this opportunity? Result can be further parsed to display only the next steps. Same query returns open items and challenges as well.  "
      ],
      "metadata": {
        "id": "CDLLgfk0338_"
      },
      "id": "CDLLgfk0338_"
    },
    {
      "cell_type": "code",
      "source": [
        "cqlSelect = f'''SELECT * FROM workspan.customer_opportunities WHERE customer_id = 'CUS100' and partner_id = 'AWS' and opportunity_id = 'WS-7202838a';  '''\n",
        "rows = session.execute(cqlSelect)\n",
        "for row_i, row in enumerate(rows):\n",
        "    print(f'\\nRow {row_i}:')\n",
        "    print(f'    customer_id:      {row.customer_id}')\n",
        "    print(f'    partner_id:      {row.partner_id}')\n",
        "    print(f'    opportunity_id:      {row.opportunity_id}')\n",
        "    print(f'    customer_name:      {row.customer_name}')\n",
        "    print(f'    llm_output:    \\n  {row.llm_output}')\n",
        "\n",
        "print('\\n...')"
      ],
      "metadata": {
        "colab": {
          "base_uri": "https://localhost:8080/"
        },
        "id": "pM03gRZT4A7v",
        "outputId": "b2960330-b9e7-4ec7-f71d-ad33042dd2a8"
      },
      "id": "pM03gRZT4A7v",
      "execution_count": 14,
      "outputs": [
        {
          "output_type": "stream",
          "name": "stdout",
          "text": [
            "\n",
            "Row 0:\n",
            "    customer_id:      CUS100\n",
            "    partner_id:      AWS\n",
            "    opportunity_id:      WS-7202838a\n",
            "    customer_name:      Teradyne, Inc.\n",
            "    llm_output:    \n",
            "  Challenges:\n",
            "- It is not clear what needs to be deprioritized based on Michael's message.\n",
            "- The level of interest from Anjaney regarding scheduling a meeting is not specified.\n",
            "- The details of the R&D call with Nirav/Amy are not provided.\n",
            "- The partner information updates and opportunity details need to be reviewed and updated, but it is not specified what these updates entail.\n",
            "- The purpose or outcome of connecting with the partner to offer co-sell support is not mentioned.\n",
            "\n",
            "Next Steps:\n",
            "- Review partner information updates and update opportunity details (scheduled for 08/16/2023).\n",
            "- Connect with Partner to offer co-sell support (scheduled for 8/17, but not clear who will be responsible for this).\n",
            "\n",
            "Open Items:\n",
            "- Confirmation on what needs to be deprioritized.\n",
            "- Level of interest in scheduling a meeting with Anjaney.\n",
            "- Purpose and outcome of the R&D call with Nirav/Amy.\n",
            "- Details of the partner information updates and opportunity details.\n",
            "- Responsibility for connecting with the Partner to offer co-sell support.\n",
            "\n",
            "...\n"
          ]
        }
      ]
    },
    {
      "cell_type": "markdown",
      "source": [
        "# Customer Specific Queries (across multiple opportunities)"
      ],
      "metadata": {
        "id": "SDbPnN2uJsq0"
      },
      "id": "SDbPnN2uJsq0"
    },
    {
      "cell_type": "markdown",
      "source": [
        "Identify the wins"
      ],
      "metadata": {
        "id": "s_jSZKP7zUss"
      },
      "id": "s_jSZKP7zUss"
    },
    {
      "cell_type": "code",
      "source": [
        "cqlSelect = f'''SELECT * FROM workspan.customer_opportunities WHERE customer_id = 'CUS100' and partner_id = 'AWS' and sentiment = 'positive'  ;'''\n",
        "rows = session.execute(cqlSelect)\n",
        "for row_i, row in enumerate(rows):\n",
        "    print(f'\\nRow {row_i}:')\n",
        "    print(f'    customer_id:      {row.customer_id}')\n",
        "    print(f'    partner_id:      {row.partner_id}')\n",
        "    print(f'    opportunity_id:      {row.opportunity_id}')\n",
        "    print(f'    customer_name:      {row.customer_name}')\n",
        "    print(f'    sentiment:      {row.sentiment}')\n",
        "\n",
        "print('\\n...')"
      ],
      "metadata": {
        "colab": {
          "base_uri": "https://localhost:8080/"
        },
        "id": "A4cgsK4K5Z_l",
        "outputId": "629f606f-c287-450f-9fae-b3f066357ec5"
      },
      "id": "A4cgsK4K5Z_l",
      "execution_count": 15,
      "outputs": [
        {
          "output_type": "stream",
          "name": "stdout",
          "text": [
            "\n",
            "Row 0:\n",
            "    customer_id:      CUS100\n",
            "    partner_id:      AWS\n",
            "    opportunity_id:      WS-8a7128a3\n",
            "    customer_name:      Teradyne, Inc.\n",
            "    sentiment:      positive\n",
            "\n",
            "Row 1:\n",
            "    customer_id:      CUS100\n",
            "    partner_id:      AWS\n",
            "    opportunity_id:      WS-8a3b0348\n",
            "    customer_name:      Teradyne, Inc.\n",
            "    sentiment:      positive\n",
            "\n",
            "Row 2:\n",
            "    customer_id:      CUS100\n",
            "    partner_id:      AWS\n",
            "    opportunity_id:      WS-7202838a\n",
            "    customer_name:      Teradyne, Inc.\n",
            "    sentiment:      positive\n",
            "\n",
            "...\n"
          ]
        }
      ]
    },
    {
      "cell_type": "markdown",
      "source": [
        "Identify opportunities with next step to schedule a meeting"
      ],
      "metadata": {
        "id": "RvHXXjLL8vfh"
      },
      "id": "RvHXXjLL8vfh"
    },
    {
      "cell_type": "code",
      "source": [
        "vectorsearchon = 'next action to set up a meeting'\n",
        "embedding = openai.Embedding.create(input= vectorsearchon, model=model_id)['data'][0]['embedding']\n",
        "\n",
        "cqlSelect = f'''SELECT * FROM workspan.customer_opportunities WHERE customer_id = 'CUS100' and partner_id = 'AWS' and llm_output : 'schedule a meeting' ORDER BY llm_output_embedding ANN OF {embedding} LIMIT 10;  '''\n",
        "rows = session.execute(cqlSelect)\n",
        "for row_i, row in enumerate(rows):\n",
        "    print(f'\\nRow {row_i}:')\n",
        "    print(f'    customer_id:      {row.customer_id}')\n",
        "    print(f'    partner_id:      {row.partner_id}')\n",
        "    print(f'    opportunity_id:      {row.opportunity_id}')\n",
        "    print(f'    customer_name:      {row.customer_name}')\n",
        "    print(f'    sentiment:      {row.sentiment}')\n",
        "    print(f'    llm_output:    \\n  {row.llm_output}')\n",
        "\n",
        "print('\\n...')\n"
      ],
      "metadata": {
        "colab": {
          "base_uri": "https://localhost:8080/"
        },
        "id": "a8HJPTwC8wH5",
        "outputId": "b3c1e683-092d-451c-c43d-43d3d288069f"
      },
      "id": "a8HJPTwC8wH5",
      "execution_count": 28,
      "outputs": [
        {
          "output_type": "stream",
          "name": "stdout",
          "text": [
            "\n",
            "Row 0:\n",
            "    customer_id:      CUS100\n",
            "    partner_id:      AWS\n",
            "    opportunity_id:      WS-8a3b0348\n",
            "    customer_name:      Teradyne, Inc.\n",
            "    sentiment:      positive\n",
            "    llm_output:    \n",
            "  Challenges:\n",
            "1. Coordinating with Caroline and Michael for the joint sync set for 9/7.\n",
            "2. Organizing the enablement session that is to follow after the joint sync.\n",
            "3. Establishing EAI presence.\n",
            "4. Reaching out to Federico Gandolfo for deal support discussions.\n",
            "\n",
            "Next steps to schedule a meeting:\n",
            "1. Caroline and Michael to start organizing for the joint sync set for 9/7.\n",
            "2. Arrangement for the enablement session to follow after the sync.\n",
            "3. Contact Federico Gandolfo to discuss deal support.\n",
            "\n",
            "Open Items:\n",
            "1. Establishing EAI presence. \n",
            "2. Contacting Federico Gandolfo for deal support.\n",
            "\n",
            "Row 1:\n",
            "    customer_id:      CUS100\n",
            "    partner_id:      AWS\n",
            "    opportunity_id:      WS-8a7128a3\n",
            "    customer_name:      Teradyne, Inc.\n",
            "    sentiment:      positive\n",
            "    llm_output:    \n",
            "  Challenges:\n",
            "1. Getting initial data from the user community.\n",
            "2. Pulling together a Point of View (PoV) for the client.\n",
            "3. Outreach to Deloitte users which is in-person.\n",
            "4. Follow up on the received 5 responses.\n",
            "\n",
            "Next Steps To Schedule A Meeting:\n",
            "1. On 06/20/2023, a meeting should be scheduled to contact Federico Gandolfo to discuss Deal support.\n",
            "2. On 07/05/2023, another meeting should be scheduled to contact Federico Gandolfo to discuss Deal support.\n",
            "\n",
            "Open Items:\n",
            "1. Engage the user community to respond to questions.\n",
            "2. Address the data gathering concern raised by @Dataiku.\n",
            "3. Plan and execute an in-person outreach to Deloitte users.\n",
            "4. Follow-up on the 5 responses received from Deloitte users.\n",
            "5. Discuss Deal support with Federico Gandolfo.\n",
            "\n",
            "...\n"
          ]
        }
      ]
    },
    {
      "cell_type": "markdown",
      "source": [
        "I want to know more about the customer and the challenges so that it is possible to plan accordingly (Implement query using agent framework such as LangChain, LlamaIndex..)"
      ],
      "metadata": {
        "id": "VUCjFRriuhYs"
      },
      "id": "VUCjFRriuhYs"
    },
    {
      "cell_type": "code",
      "source": [
        "vectorsearchon = 'find opportunity with listed challenges'\n",
        "embedding = openai.Embedding.create(input= vectorsearchon, model=model_id)['data'][0]['embedding']\n",
        "\n",
        "cqlSelect = f'''SELECT llm_output FROM workspan.customer_opportunities WHERE customer_id = 'CUS100' and partner_id = 'AWS' ORDER BY llm_output_embedding ANN OF {embedding} LIMIT 10;  '''\n",
        "rows = session.execute(cqlSelect)\n",
        "print(rows)\n",
        "documents = []\n",
        "for item in rows:\n",
        "    documents.append(Document(text=str(item)))\n",
        "    print(str(item))\n",
        "\n",
        "index = ListIndex.from_documents(documents)\n",
        "\n",
        "# set Logging to DEBUG for more detailed outputs\n",
        "query_engine = index.as_query_engine()\n",
        "response = query_engine.query(\"What are the Challenges?\")\n",
        "\n",
        "# visualize in console or web\n",
        "print(response)\n",
        "display(Markdown(f\"<b>{response}</b>\"))"
      ],
      "metadata": {
        "colab": {
          "base_uri": "https://localhost:8080/",
          "height": 704
        },
        "id": "dxdohOBTZqCI",
        "outputId": "95a875a4-a0a4-4640-9ac5-2e829521a7a4"
      },
      "id": "dxdohOBTZqCI",
      "execution_count": 29,
      "outputs": [
        {
          "output_type": "stream",
          "name": "stdout",
          "text": [
            "<cassandra.cluster.ResultSet object at 0x7e3d25aa72b0>\n",
            "Row(llm_output='Challenges:\\n1. Michael: Need to deprioritize certain action items.\\n\\nNext Steps to Schedule a Meeting:\\n1. Anjaney: Schedule call with Nirav/Amy on R&D.\\n2. Next step on 08/16/2023: Review partner information updates and update opportunity details.\\n3. LR on 08/17/2023: Connect with Partner to offer co-sell support.\\n\\nOpen Items:\\n1. Review and update of partner information.\\n2. Update of opportunity details.\\n3. Connection with Partner for co-sell support.')\n",
            "Row(llm_output='Challenges:\\n1. Proposal did not go through.\\n2. There is no remaining budget.\\n\\nOpen items:\\nNone\\n\\nNext steps:\\nNone mentioned (No further follow up required).')\n",
            "Row(llm_output='Challenges:\\n1. Getting initial data from the user community.\\n2. Pulling together a Point of View (PoV) for the client.\\n3. Outreach to Deloitte users which is in-person.\\n4. Follow up on the received 5 responses.\\n\\nNext Steps To Schedule A Meeting:\\n1. On 06/20/2023, a meeting should be scheduled to contact Federico Gandolfo to discuss Deal support.\\n2. On 07/05/2023, another meeting should be scheduled to contact Federico Gandolfo to discuss Deal support.\\n\\nOpen Items:\\n1. Engage the user community to respond to questions.\\n2. Address the data gathering concern raised by @Dataiku.\\n3. Plan and execute an in-person outreach to Deloitte users.\\n4. Follow-up on the 5 responses received from Deloitte users.\\n5. Discuss Deal support with Federico Gandolfo.')\n",
            "Row(llm_output=\"Challenges:\\n1. Availability and coordination between Autumn, Ramesh, and Caroline.\\n2. The need for Autumn to send the recording of the last call and the discussed inputs from demo 8/28. \\n3. Reviewing the Tech & Economic Proposal.\\n\\nNext Steps:\\n1. Autumn needs to send the recording and inputs to Ramesh. \\n2. Ramesh needs to pass on the information to Caroline by the next week.\\n\\nOpen Items:\\n1. Autumn's recording and discussed inputs from the demo. \\n2. Review of the Tech & Economic Proposal.\")\n",
            "Row(llm_output='Challenges:\\n1. Coordinating with Caroline and Michael for the joint sync set for 9/7.\\n2. Organizing the enablement session that is to follow after the joint sync.\\n3. Establishing EAI presence.\\n4. Reaching out to Federico Gandolfo for deal support discussions.\\n\\nNext steps to schedule a meeting:\\n1. Caroline and Michael to start organizing for the joint sync set for 9/7.\\n2. Arrangement for the enablement session to follow after the sync.\\n3. Contact Federico Gandolfo to discuss deal support.\\n\\nOpen Items:\\n1. Establishing EAI presence. \\n2. Contacting Federico Gandolfo for deal support.')\n",
            "The challenges mentioned in the context are:\n",
            "1. Need to deprioritize certain action items.\n",
            "2. Proposal did not go through.\n",
            "3. There is no remaining budget.\n",
            "4. Getting initial data from the user community.\n",
            "5. Pulling together a Point of View (PoV) for the client.\n",
            "6. Outreach to Deloitte users which is in-person.\n",
            "7. Follow up on the received 5 responses.\n",
            "8. Availability and coordination between Autumn, Ramesh, and Caroline.\n",
            "9. The need for Autumn to send the recording of the last call and the discussed inputs from demo 8/28.\n",
            "10. Reviewing the Tech & Economic Proposal.\n",
            "11. Coordinating with Caroline and Michael for the joint sync set for 9/7.\n",
            "12. Organizing the enablement session that is to follow after the joint sync.\n",
            "13. Establishing EAI presence.\n",
            "14. Reaching out to Federico Gandolfo for deal support discussions.\n"
          ]
        },
        {
          "output_type": "display_data",
          "data": {
            "text/plain": [
              "<IPython.core.display.Markdown object>"
            ],
            "text/markdown": "<b>The challenges mentioned in the context are:\n1. Need to deprioritize certain action items.\n2. Proposal did not go through.\n3. There is no remaining budget.\n4. Getting initial data from the user community.\n5. Pulling together a Point of View (PoV) for the client.\n6. Outreach to Deloitte users which is in-person.\n7. Follow up on the received 5 responses.\n8. Availability and coordination between Autumn, Ramesh, and Caroline.\n9. The need for Autumn to send the recording of the last call and the discussed inputs from demo 8/28.\n10. Reviewing the Tech & Economic Proposal.\n11. Coordinating with Caroline and Michael for the joint sync set for 9/7.\n12. Organizing the enablement session that is to follow after the joint sync.\n13. Establishing EAI presence.\n14. Reaching out to Federico Gandolfo for deal support discussions.</b>"
          },
          "metadata": {}
        }
      ]
    }
  ],
  "metadata": {
    "kernelspec": {
      "display_name": "Python 3 (ipykernel)",
      "language": "python",
      "name": "python3"
    },
    "language_info": {
      "codemirror_mode": {
        "name": "ipython",
        "version": 3
      },
      "file_extension": ".py",
      "mimetype": "text/x-python",
      "name": "python",
      "nbconvert_exporter": "python",
      "pygments_lexer": "ipython3",
      "version": "3.10.6"
    },
    "colab": {
      "provenance": []
    }
  },
  "nbformat": 4,
  "nbformat_minor": 5
}