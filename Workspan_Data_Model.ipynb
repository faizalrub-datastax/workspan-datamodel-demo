{
  "cells": [
    {
      "cell_type": "markdown",
      "source": [
        "# Data Storage and Access Patterns (including Astra Vector Search)\n",
        "\n"
      ],
      "metadata": {
        "id": "-neIomNS4cl6"
      },
      "id": "-neIomNS4cl6"
    },
    {
      "cell_type": "markdown",
      "id": "2c1f964d-aa85-4b2f-a04c-71c295fe9d1e",
      "metadata": {
        "id": "2c1f964d-aa85-4b2f-a04c-71c295fe9d1e"
      },
      "source": [
        "# Table Schema\n",
        "\n",
        "```\n",
        "CREATE TABLE IF NOT EXISTS workspan.customer_opportunities (\n",
        "    customer_id text,\n",
        "    partner_id text,\n",
        "    opportunity_id text,\n",
        "    customer_name text static,\n",
        "    next_step text,\n",
        "    cadence text,\n",
        "    llm_output text,\n",
        "    opportunity map<text, text>,\n",
        "    llm_output_embedding vector<float, 1536>,\n",
        "    sentiment text,\n",
        "    PRIMARY KEY ((customer_id, partner_id), opportunity_id)\n",
        ") WITH CLUSTERING ORDER BY (opportunity_id DESC)\n",
        "\n",
        "```\n",
        "\n"
      ]
    },
    {
      "cell_type": "markdown",
      "source": [
        "* customer_id: Unique identifier for each customer\n",
        "* partner_id: AWS / Azure / GCP\n",
        "* opportunity_id: Unique identifier for each opportunity\n",
        "* opportunity: Dynamic collection of data field names and corresponding values specific to the opportunity. Other fields can be stored in separate table columns.\n",
        "* llm_ouput: LLM output summarizing the 'next steps' , 'challenges' and 'open items'  \n",
        "* llm_ouput_embedding: Text embeddings corresponding to llm_output\n",
        "* sentiment: Positive, Neutral and Negative sentiment derived from 'next step' and 'cadence' data fields. This can be determined either by using a sentiment analysis library such as  Python Natural Language Toolkit (NLTK) or from LLM.\n"
      ],
      "metadata": {
        "id": "L2pRI7iZN45b"
      },
      "id": "L2pRI7iZN45b"
    },
    {
      "cell_type": "markdown",
      "id": "25d08ec4-0e7b-4819-933f-43ed5ff95e48",
      "metadata": {
        "id": "25d08ec4-0e7b-4819-933f-43ed5ff95e48"
      },
      "source": [
        "# Imports"
      ]
    },
    {
      "cell_type": "code",
      "source": [
        "!pip install openai cassandra-driver llama-index"
      ],
      "metadata": {
        "id": "uMoWlVK8ryqd"
      },
      "id": "uMoWlVK8ryqd",
      "execution_count": null,
      "outputs": []
    },
    {
      "cell_type": "code",
      "source": [
        "from cassandra.cluster import Cluster\n",
        "from cassandra.auth import PlainTextAuthProvider\n",
        "from cassandra.query import dict_factory\n",
        "from cassandra.query import SimpleStatement\n",
        "import openai\n",
        "from llama_index import ListIndex\n",
        "from llama_index.readers.schema.base import Document\n",
        "from IPython.display import Markdown, display"
      ],
      "metadata": {
        "id": "ldfNIehRsB3W"
      },
      "id": "ldfNIehRsB3W",
      "execution_count": 3,
      "outputs": []
    },
    {
      "cell_type": "markdown",
      "id": "b7a93b64-e9e9-41d1-95c9-dc9194a5ec8d",
      "metadata": {
        "id": "b7a93b64-e9e9-41d1-95c9-dc9194a5ec8d"
      },
      "source": [
        "# Keys & Environment Variables"
      ]
    },
    {
      "cell_type": "code",
      "execution_count": 4,
      "id": "ebeb1df7-2dcc-4ba6-a941-49c68631bd49",
      "metadata": {
        "id": "ebeb1df7-2dcc-4ba6-a941-49c68631bd49"
      },
      "outputs": [],
      "source": [
        "# keys and tokens here\n",
        "openai_api_key = \"<openai_key>\"\n",
        "openai.api_key = openai_api_key\n",
        "cass_user = '<astra_client_id>'\n",
        "cass_pw = '<astra_secret>'\n",
        "scb_path = 'secure-connect-vector-search-demo.zip'"
      ]
    },
    {
      "cell_type": "markdown",
      "id": "a96369f4-d311-44c2-8469-f960a2a8718a",
      "metadata": {
        "id": "a96369f4-d311-44c2-8469-f960a2a8718a"
      },
      "source": [
        "# Select a model to compute embeddings"
      ]
    },
    {
      "cell_type": "code",
      "execution_count": 5,
      "id": "553fece5-8154-4e18-9610-ff4999bfe171",
      "metadata": {
        "id": "553fece5-8154-4e18-9610-ff4999bfe171"
      },
      "outputs": [],
      "source": [
        "model_id = \"text-embedding-ada-002\""
      ]
    },
    {
      "cell_type": "markdown",
      "id": "bafd4fc1-84a4-4384-bb3e-42ecffab2455",
      "metadata": {
        "id": "bafd4fc1-84a4-4384-bb3e-42ecffab2455"
      },
      "source": [
        "# Connect to the Cluster"
      ]
    },
    {
      "cell_type": "code",
      "execution_count": null,
      "id": "8c5b0058-391d-421e-81a0-eb2f7fe684df",
      "metadata": {
        "id": "8c5b0058-391d-421e-81a0-eb2f7fe684df"
      },
      "outputs": [],
      "source": [
        "cloud_config= {\n",
        "  'secure_connect_bundle': scb_path\n",
        "}\n",
        "auth_provider = PlainTextAuthProvider(cass_user, cass_pw)\n",
        "cluster = Cluster(cloud=cloud_config, auth_provider=auth_provider)\n",
        "session = cluster.connect()\n",
        "session.set_keyspace('workspan')"
      ]
    },
    {
      "cell_type": "markdown",
      "id": "0670b30f-927f-47da-b71d-0a99092c3f58",
      "metadata": {
        "id": "0670b30f-927f-47da-b71d-0a99092c3f58"
      },
      "source": [
        "# Drop / Create Schema"
      ]
    },
    {
      "cell_type": "code",
      "execution_count": null,
      "id": "a941c487-1c6b-4f46-a0a3-305a95931d82",
      "metadata": {
        "id": "a941c487-1c6b-4f46-a0a3-305a95931d82"
      },
      "outputs": [],
      "source": [
        "\n",
        "# # Create Table\n",
        "session.execute(f\"\"\"CREATE TABLE IF NOT EXISTS workspan.customer_opportunities (\n",
        "    customer_id text,\n",
        "    partner_id text,\n",
        "    opportunity_id text,\n",
        "    customer_name text static,\n",
        "    next_step text,\n",
        "    cadence text,\n",
        "    llm_output text,\n",
        "    opportunity map<text, text>,\n",
        "    llm_output_embedding vector<float, 1536>,\n",
        "    sentiment text,\n",
        "    PRIMARY KEY ((customer_id, partner_id), opportunity_id)\n",
        ") WITH CLUSTERING ORDER BY (opportunity_id DESC)\"\"\")\n",
        "\n"
      ]
    },
    {
      "cell_type": "code",
      "source": [
        "session.execute(f\"\"\"CREATE CUSTOM INDEX ON workspan.customer_opportunities(opportunity) USING 'org.apache.cassandra.index.sai.StorageAttachedIndex'\"\"\")"
      ],
      "metadata": {
        "id": "KLI4U_JqpAfI"
      },
      "id": "KLI4U_JqpAfI",
      "execution_count": null,
      "outputs": []
    },
    {
      "cell_type": "code",
      "source": [
        "session.execute(f\"\"\"CREATE CUSTOM INDEX ON workspan.customer_opportunities (llm_output_embedding) USING 'org.apache.cassandra.index.sai.StorageAttachedIndex'\"\"\")"
      ],
      "metadata": {
        "id": "oeWFaC5Q5EjL"
      },
      "id": "oeWFaC5Q5EjL",
      "execution_count": null,
      "outputs": []
    },
    {
      "cell_type": "code",
      "source": [
        "session.execute(f\"\"\"CREATE CUSTOM INDEX ON workspan.customer_opportunities (sentiment) USING 'org.apache.cassandra.index.sai.StorageAttachedIndex'\"\"\")"
      ],
      "metadata": {
        "id": "qAx4jimW6PaQ"
      },
      "id": "qAx4jimW6PaQ",
      "execution_count": null,
      "outputs": []
    },
    {
      "cell_type": "markdown",
      "source": [
        "# Create the following SAI with analyser from CQL\n",
        "\n",
        "\n",
        "```\n",
        "CREATE CUSTOM INDEX ON workspan.customer_opportunities(llm_output) USING 'org.apache.cassandra.index.sai.StorageAttachedIndex' WITH OPTIONS = {'index_analyzer': '{\n",
        "\"tokenizer\" : {\"name\" : \"standard\"},\n",
        "\"filters\" : [{\"name\" : \"porterstem\"}] }'};\n",
        "```\n",
        "\n"
      ],
      "metadata": {
        "id": "BDLwp--lbTHa"
      },
      "id": "BDLwp--lbTHa"
    },
    {
      "cell_type": "markdown",
      "source": [
        "# Calculate the sentiment\n",
        "\n",
        "Sentiment can be calculated either by using a sentiment analysis library such as Python Natural Language Toolkit (NLTK) or from LLM."
      ],
      "metadata": {
        "id": "my8W1djmGEFZ"
      },
      "id": "my8W1djmGEFZ"
    },
    {
      "cell_type": "code",
      "source": [
        "def indentify_sentiment(next_step_and_cadence):\n",
        "    import nltk\n",
        "    from nltk.sentiment.vader import SentimentIntensityAnalyzer\n",
        "\n",
        "    nltk.download('vader_lexicon')\n",
        "    sid = SentimentIntensityAnalyzer()\n",
        "\n",
        "    sentiment_scores = sid.polarity_scores(next_step_and_cadence)\n",
        "    if sentiment_scores['compound'] >= 0.05:\n",
        "        sentiment = 'positive'\n",
        "    elif sentiment_scores['compound'] <= -0.05:\n",
        "        sentiment = 'negative'\n",
        "    else:\n",
        "        sentiment = 'neutral'\n",
        "\n",
        "    print(f\"Sentiment: {sentiment}\")\n",
        "    return sentiment\n"
      ],
      "metadata": {
        "id": "8IubYIEwNMvB"
      },
      "id": "8IubYIEwNMvB",
      "execution_count": 8,
      "outputs": []
    },
    {
      "cell_type": "markdown",
      "source": [
        "# Generate LLM ouput"
      ],
      "metadata": {
        "id": "SUVtAvlmGMTB"
      },
      "id": "SUVtAvlmGMTB"
    },
    {
      "cell_type": "code",
      "source": [
        "def extract_llm_information(next_step_and_cadence):\n",
        "\n",
        "    llm_input = f\"\"\"\n",
        "                Given the following information, please identify the challenges, next steps, and open items. If there is a mention of any meetings that need to be scheduled, please list it under 'schedule a meeting:'. If there's no indication of a meeting, then avoid the listing:\n",
        "\n",
        "                {next_step_and_cadence}\n",
        "\n",
        "                End of information.\n",
        "                \"\"\"\n",
        "\n",
        "    response = openai.ChatCompletion.create(\n",
        "        #model=\"gpt-3.5-turbo\",\n",
        "        model=\"gpt-4\",\n",
        "        messages=[\n",
        "            {\"role\": \"system\", \"content\": \"You are a helpful assistant. Use the instructions provided to process the information.\"},\n",
        "            {\"role\": \"user\", \"content\": llm_input}\n",
        "        ]\n",
        "    )\n",
        "\n",
        "    return response.choices[0].message['content']"
      ],
      "metadata": {
        "id": "jLKLn4xLMNQV"
      },
      "id": "jLKLn4xLMNQV",
      "execution_count": 31,
      "outputs": []
    },
    {
      "cell_type": "markdown",
      "source": [
        "# Insert records with the calculated sentiment and LLM embeddings"
      ],
      "metadata": {
        "id": "5BqlxWG-zSZc"
      },
      "id": "5BqlxWG-zSZc"
    },
    {
      "cell_type": "code",
      "source": [
        "query = SimpleStatement(\n",
        "            f\"\"\"\n",
        "            INSERT INTO workspan.customer_opportunities\n",
        "            (customer_id, partner_id, opportunity_id, customer_name, llm_output,  opportunity , llm_output_embedding , sentiment )\n",
        "            VALUES (%s, %s, %s, %s, %s , %s , %s , %s )\n",
        "            \"\"\"\n",
        "        )\n",
        "\n",
        "# record #1\n",
        "\n",
        "next_step = f\"\"\"\n",
        "Action Items:\n",
        "From Michael, confirmed deprioritize. From Anjaney, account executive interest to schedule meeting - Anjaney to schedule call with Nirav/Amy on R&D.\n",
        "\"\"\"\n",
        "\n",
        "cadence = f\"\"\"\n",
        "Next Step:\n",
        "08/16/2023 : Review partner information updates and update opportunity details. 8/17(LR) - connecting with Partner to offer co-sell support\n",
        "\n",
        "Next Step History:\n",
        "null;08/16/2023 : Review partner information updates and update opportunity details.;08/16/2023 : Review partner information updates and update opportunity details. 8/17(LR) - connecting with Partner to offer co-sell support\n",
        "\"\"\"\n",
        "\n",
        "next_step_and_cadence = next_step + cadence\n",
        "\n",
        "sentiment = indentify_sentiment(next_step_and_cadence)\n",
        "llm_output = extract_llm_information(next_step_and_cadence)\n",
        "print(f\"{llm_output}/n\")\n",
        "embedding_llm_output = openai.Embedding.create(input= llm_output, model=model_id)['data'][0]['embedding']\n",
        "session.execute(query, ('CUS100' , 'AWS', 'WS-7202838a', 'Teradyne, Inc.', llm_output,  {'Customer State' : 'Ile-de-France', 'Customer Country' : 'France', 'Deal Size' : '30000', 'Description' : 'Pain Point: Persistent phishing attacks and email compromises leading to data leaks and compromised accounts. Description: The customer is struggling with the recurring threat of phishing attacks that infiltrate their systems, compromising sensitive data and risking the confidentiality of critical information.' }\n",
        "                        , embedding_llm_output , sentiment))\n",
        "\n",
        "# record #2\n",
        "\n",
        "next_step = f\"\"\"\n",
        "Action Items:\n",
        "From Autumn, send recording of last call and our discussed inputs from demo 8/28. Ramesh will provide to Caroline by early next week (of 9/11).\n",
        "\"\"\"\n",
        "\n",
        "cadence = f\"\"\"\n",
        "REVIEW TECH & Economic Proposal\n",
        "\"\"\"\n",
        "\n",
        "next_step_and_cadence = next_step + cadence\n",
        "\n",
        "sentiment = indentify_sentiment(next_step_and_cadence)\n",
        "llm_output = extract_llm_information(next_step_and_cadence)\n",
        "print(f\"{llm_output}/n\")\n",
        "embedding_llm_output = openai.Embedding.create(input= llm_output, model=model_id)['data'][0]['embedding']\n",
        "session.execute(query, ('CUS100' , 'AWS', 'WS-8a038b8a', 'Teradyne, Inc.', llm_output,  {'Customer State' : 'Ile-de-France', 'Customer Country' : 'France', 'Deal Size' : '30000', 'Description' : 'Pain Point: Persistent phishing attacks and email compromises leading to data leaks and compromised accounts. Description: The customer is struggling with the recurring threat of phishing attacks that infiltrate their systems, compromising sensitive data and risking the confidentiality of critical information.' }\n",
        "                        , embedding_llm_output , sentiment))\n",
        "\n",
        "# record #3\n",
        "\n",
        "next_step = f\"\"\"\n",
        "Action Items:\n",
        "Joint sync set for 9/7. Enablement session to follow + in person account mapping. Caroline / Michael to begin coordinating. EAI presence\n",
        "\"\"\"\n",
        "\n",
        "cadence = f\"\"\"\n",
        "07/05/2023: Contact Federico Gandolfo,federico.hernan.gandolfo@abc.com,+54.911.3204.4871 to discuss Deal support\n",
        "\"\"\"\n",
        "\n",
        "next_step_and_cadence = next_step + cadence\n",
        "\n",
        "sentiment = indentify_sentiment(next_step_and_cadence)\n",
        "llm_output = extract_llm_information(next_step_and_cadence)\n",
        "print(f\"{llm_output}/n\")\n",
        "embedding_llm_output = openai.Embedding.create(input= llm_output, model=model_id)['data'][0]['embedding']\n",
        "session.execute(query, ('CUS100' , 'AWS', 'WS-8a3b0348', 'Teradyne, Inc.', llm_output,  {'Customer State' : 'Ile-de-France', 'Customer Country' : 'France', 'Deal Size' : '30000', 'Description' : 'Pain Point: Persistent phishing attacks and email compromises leading to data leaks and compromised accounts. Description: The customer is struggling with the recurring threat of phishing attacks that infiltrate their systems, compromising sensitive data and risking the confidentiality of critical information.' }\n",
        "                        , embedding_llm_output , sentiment))\n",
        "\n",
        "# record #4\n",
        "\n",
        "next_step = f\"\"\"\n",
        "Action Items:\n",
        "From Caroline, user community engaged to respond to questions. @Dataiku - How can we get initial data from user community/pull together PoV for client? Action (Asan/Ken (sp?)): In-person outreach to Deloitte users and follow-up to 5 responses received.\n",
        "\"\"\"\n",
        "\n",
        "cadence = f\"\"\"\n",
        "null;06/20/2023: Contact Federico Gandolfo,federico.hernan.gandolfo@abc.com,+54.911.3204.4871 to discuss Deal support;07/05/2023: Contact Federico Gandolfo,federico.hernan.gandolfo@abc.com,+54.911.3204.4871 to discuss Deal support\n",
        "\"\"\"\n",
        "\n",
        "next_step_and_cadence = next_step + cadence\n",
        "\n",
        "sentiment = indentify_sentiment(next_step_and_cadence)\n",
        "llm_output = extract_llm_information(next_step_and_cadence)\n",
        "print(f\"{llm_output}/n\")\n",
        "embedding_llm_output = openai.Embedding.create(input= llm_output, model=model_id)['data'][0]['embedding']\n",
        "session.execute(query, ('CUS100' , 'AWS', 'WS-8a7128a3', 'Teradyne, Inc.', llm_output,  {'Customer State' : 'Ile-de-France', 'Customer Country' : 'France', 'Deal Size' : '30000', 'Description' : 'Pain Point: Persistent phishing attacks and email compromises leading to data leaks and compromised accounts. Description: The customer is struggling with the recurring threat of phishing attacks that infiltrate their systems, compromising sensitive data and risking the confidentiality of critical information.' }\n",
        "                        , embedding_llm_output , sentiment))\n",
        "\n",
        "# record #4\n",
        "\n",
        "next_step = f\"\"\"\n",
        "Propsal did not go thru. No budget Left. Negative.\n",
        "\"\"\"\n",
        "\n",
        "cadence = f\"\"\"\n",
        "No further follow up required.\n",
        "\"\"\"\n",
        "\n",
        "next_step_and_cadence = next_step + cadence\n",
        "\n",
        "sentiment = indentify_sentiment(next_step_and_cadence)\n",
        "llm_output = extract_llm_information(next_step_and_cadence)\n",
        "print(f\"{llm_output}/n\")\n",
        "embedding_llm_output = openai.Embedding.create(input= llm_output, model=model_id)['data'][0]['embedding']\n",
        "session.execute(query, ('CUS100' , 'AWS', 'WS-8a7128a4', 'Teradyne, Inc.', llm_output,  {'Customer State' : 'Ile-de-France', 'Customer Country' : 'France', 'Deal Size' : '30000', 'Description' : 'Pain Point: Persistent phishing attacks and email compromises leading to data leaks and compromised accounts. Description: The customer is struggling with the recurring threat of phishing attacks that infiltrate their systems, compromising sensitive data and risking the confidentiality of critical information.' }\n",
        "                        , embedding_llm_output , sentiment))\n",
        "\n"
      ],
      "metadata": {
        "colab": {
          "base_uri": "https://localhost:8080/"
        },
        "id": "IedeKXPDv2Rv",
        "outputId": "def6f679-4339-493f-ae0d-eb32f26c3470"
      },
      "id": "IedeKXPDv2Rv",
      "execution_count": 32,
      "outputs": [
        {
          "output_type": "stream",
          "name": "stderr",
          "text": [
            "[nltk_data] Downloading package vader_lexicon to /root/nltk_data...\n",
            "[nltk_data]   Package vader_lexicon is already up-to-date!\n"
          ]
        },
        {
          "output_type": "stream",
          "name": "stdout",
          "text": [
            "Sentiment: positive\n",
            "Challenges:\n",
            "1. Identified from the available information, a challenge is the deprioritization confirmed by Michael. However, further context is needed to ascertain the exact nature of this challenge.\n",
            "\n",
            "Next Steps:\n",
            "1. On 08/16/2023, review partner information updates and update opportunity details.\n",
            "2. On 08/17/2023, LR is to connect with the Partner to offer co-sell support.\n",
            "\n",
            "Open Items:\n",
            "1. Scheduling of meeting as mentioned by Anjaney needs to be confirmed.\n",
            "\n",
            "Schedule a Meeting:\n",
            "1. Anjaney to schedule a call with Nirav/Amy on R&D./n\n",
            "Sentiment: neutral\n"
          ]
        },
        {
          "output_type": "stream",
          "name": "stderr",
          "text": [
            "[nltk_data] Downloading package vader_lexicon to /root/nltk_data...\n",
            "[nltk_data]   Package vader_lexicon is already up-to-date!\n"
          ]
        },
        {
          "output_type": "stream",
          "name": "stdout",
          "text": [
            "Challenges:\n",
            "1. Ensuring that the recording of the last call and our discussed inputs from demo 8/28 are sent in a timely manner.\n",
            "2. Reviewing the Technical and Economic proposal may require a significant amount of time and expertise.\n",
            "\n",
            "Next Steps:\n",
            "1. Autumn must send the recording of the last call and their discussed inputs from demo 8/28.\n",
            "2. Ramesh needs to provide the aforementioned resources to Caroline by early next week (of 9/11).\n",
            "3. Reviewing the Technical and Economic proposal.\n",
            "\n",
            "Open Items:\n",
            "1. Waiting for Autumn to complete the task of sending the recording and discussed inputs.\n",
            "2. Expecting Ramesh to provide resources to Caroline by early next week.\n",
            "3. Review of the Technical and Economic proposal is still pending.\n",
            "\n",
            "Schedule a Meeting:\n",
            "No meetings to be scheduled as per the information provided./n\n",
            "Sentiment: positive\n"
          ]
        },
        {
          "output_type": "stream",
          "name": "stderr",
          "text": [
            "[nltk_data] Downloading package vader_lexicon to /root/nltk_data...\n",
            "[nltk_data]   Package vader_lexicon is already up-to-date!\n"
          ]
        },
        {
          "output_type": "stream",
          "name": "stdout",
          "text": [
            "Challenges:\n",
            "1. Coordinating with all parties involved in the joint sync and enablement session.\n",
            "2. Engaging with Federico Gandolfo for deal support.\n",
            "\n",
            "Next Steps:\n",
            "1. Conduct the joint sync on 9/7 followed by an enablement session and in-person account mapping.\n",
            "2. Contact and coordinate with Federico Gandolfo to discuss deal support on 07/05/2023.\n",
            "\n",
            "Open Items:\n",
            "1. Begin coordination between Caroline and Michael for the joint sync and enablement session.\n",
            "2. Establishing EAI presence.\n",
            "\n",
            "Schedule a Meeting: \n",
            "1. A joint sync is scheduled for 9/7.\n",
            "2. A meeting with Federico Gandolfo needs to be arranged on 07/05/2023./n\n",
            "Sentiment: positive\n"
          ]
        },
        {
          "output_type": "stream",
          "name": "stderr",
          "text": [
            "[nltk_data] Downloading package vader_lexicon to /root/nltk_data...\n",
            "[nltk_data]   Package vader_lexicon is already up-to-date!\n"
          ]
        },
        {
          "output_type": "stream",
          "name": "stdout",
          "text": [
            "Challenges:\n",
            "1. Getting initial data from the user community.\n",
            "2. Pulling together a PoV for a client.\n",
            "3. Reaching out to Deloitte users for questions and feedback, especially those that haven't responded.\n",
            "\n",
            "Next Steps:\n",
            "1. Asan and Ken will initiate an in-person outreach to Deloitte users and follow up on the 5 responses received. \n",
            "2. Caroline will continue to engage the user community to respond to questions. \n",
            "3. Federico Gandolfo needs to be contacted to discuss Deal support. \n",
            "\n",
            "Open Items: \n",
            "1. What is the strategy to get initial data from the user community?\n",
            "2. What would be the ideal PoV for the client?\n",
            "\n",
            "Schedule a Meeting:\n",
            "1. Federico Gandolfo needs to be contacted on 06/20/2023 to discuss Deal support.\n",
            "2. A second meeting with Federico Gandolfo needs to be scheduled on 07/05/2023 for further discussion on Deal support./n\n",
            "Sentiment: negative\n"
          ]
        },
        {
          "output_type": "stream",
          "name": "stderr",
          "text": [
            "[nltk_data] Downloading package vader_lexicon to /root/nltk_data...\n",
            "[nltk_data]   Package vader_lexicon is already up-to-date!\n"
          ]
        },
        {
          "output_type": "stream",
          "name": "stdout",
          "text": [
            "Challenges: \n",
            "1. The proposal did not get approval. \n",
            "2. There is no budget left.\n",
            "\n",
            "Next Steps:\n",
            "1. No further follow up required.\n",
            "\n",
            "Open Items:\n",
            "None\n",
            "\n",
            "Schedule a Meeting: \n",
            "None/n\n"
          ]
        },
        {
          "output_type": "execute_result",
          "data": {
            "text/plain": [
              "<cassandra.cluster.ResultSet at 0x7910a4651ed0>"
            ]
          },
          "metadata": {},
          "execution_count": 32
        }
      ]
    },
    {
      "cell_type": "markdown",
      "source": [
        "# Opportunity Specific Queries"
      ],
      "metadata": {
        "id": "eFUGSeuhGZ2M"
      },
      "id": "eFUGSeuhGZ2M"
    },
    {
      "cell_type": "markdown",
      "source": [
        "What is the customer sentiment on this opportunity?"
      ],
      "metadata": {
        "id": "Ow36bzT-2r1s"
      },
      "id": "Ow36bzT-2r1s"
    },
    {
      "cell_type": "code",
      "source": [
        "cqlSelect = f'''SELECT * FROM workspan.customer_opportunities WHERE customer_id = 'CUS100' and partner_id = 'AWS' and opportunity_id = 'WS-7202838a'  ;'''\n",
        "rows = session.execute(cqlSelect)\n",
        "for row_i, row in enumerate(rows):\n",
        "    print(f'\\nRow {row_i}:')\n",
        "    print(f'    customer_id:      {row.customer_id}')\n",
        "    print(f'    partner_id:      {row.partner_id}')\n",
        "    print(f'    opportunity_id:      {row.opportunity_id}')\n",
        "    print(f'    customer_name:      {row.customer_name}')\n",
        "    print(f'    sentiment:      {row.sentiment}')\n",
        "\n",
        "print('\\n...')"
      ],
      "metadata": {
        "colab": {
          "base_uri": "https://localhost:8080/"
        },
        "id": "POI0ET0X2mai",
        "outputId": "aaa16d95-4a63-4943-aa44-59da43f402c5"
      },
      "id": "POI0ET0X2mai",
      "execution_count": 11,
      "outputs": [
        {
          "output_type": "stream",
          "name": "stdout",
          "text": [
            "\n",
            "Row 0:\n",
            "    customer_id:      CUS100\n",
            "    partner_id:      AWS\n",
            "    opportunity_id:      WS-7202838a\n",
            "    customer_name:      Teradyne, Inc.\n",
            "    sentiment:      positive\n",
            "\n",
            "...\n"
          ]
        }
      ]
    },
    {
      "cell_type": "markdown",
      "source": [
        "What are the next steps for this opportunity? Result can be further parsed to display only the next steps. Same query returns open items and challenges as well.  "
      ],
      "metadata": {
        "id": "CDLLgfk0338_"
      },
      "id": "CDLLgfk0338_"
    },
    {
      "cell_type": "code",
      "source": [
        "cqlSelect = f'''SELECT * FROM workspan.customer_opportunities WHERE customer_id = 'CUS100' and partner_id = 'AWS' and opportunity_id = 'WS-7202838a';  '''\n",
        "rows = session.execute(cqlSelect)\n",
        "for row_i, row in enumerate(rows):\n",
        "    print(f'\\nRow {row_i}:')\n",
        "    print(f'    customer_id:      {row.customer_id}')\n",
        "    print(f'    partner_id:      {row.partner_id}')\n",
        "    print(f'    opportunity_id:      {row.opportunity_id}')\n",
        "    print(f'    customer_name:      {row.customer_name}')\n",
        "    print(f'    llm_output:    \\n  {row.llm_output}')\n",
        "\n",
        "print('\\n...')"
      ],
      "metadata": {
        "colab": {
          "base_uri": "https://localhost:8080/"
        },
        "id": "pM03gRZT4A7v",
        "outputId": "0f8877ff-b8de-4c61-db2d-fba8af20ab69"
      },
      "id": "pM03gRZT4A7v",
      "execution_count": 34,
      "outputs": [
        {
          "output_type": "stream",
          "name": "stdout",
          "text": [
            "\n",
            "Row 0:\n",
            "    customer_id:      CUS100\n",
            "    partner_id:      AWS\n",
            "    opportunity_id:      WS-7202838a\n",
            "    customer_name:      Teradyne, Inc.\n",
            "    llm_output:    \n",
            "  Challenges:\n",
            "1. Identified from the available information, a challenge is the deprioritization confirmed by Michael. However, further context is needed to ascertain the exact nature of this challenge.\n",
            "\n",
            "Next Steps:\n",
            "1. On 08/16/2023, review partner information updates and update opportunity details.\n",
            "2. On 08/17/2023, LR is to connect with the Partner to offer co-sell support.\n",
            "\n",
            "Open Items:\n",
            "1. Scheduling of meeting as mentioned by Anjaney needs to be confirmed.\n",
            "\n",
            "Schedule a Meeting:\n",
            "1. Anjaney to schedule a call with Nirav/Amy on R&D.\n",
            "\n",
            "...\n"
          ]
        }
      ]
    },
    {
      "cell_type": "markdown",
      "source": [
        "# Customer Specific Queries (across multiple opportunities)"
      ],
      "metadata": {
        "id": "SDbPnN2uJsq0"
      },
      "id": "SDbPnN2uJsq0"
    },
    {
      "cell_type": "markdown",
      "source": [
        "Identify the wins"
      ],
      "metadata": {
        "id": "s_jSZKP7zUss"
      },
      "id": "s_jSZKP7zUss"
    },
    {
      "cell_type": "code",
      "source": [
        "cqlSelect = f'''SELECT * FROM workspan.customer_opportunities WHERE customer_id = 'CUS100' and partner_id = 'AWS' and sentiment = 'positive'  ;'''\n",
        "rows = session.execute(cqlSelect)\n",
        "for row_i, row in enumerate(rows):\n",
        "    print(f'\\nRow {row_i}:')\n",
        "    print(f'    customer_id:      {row.customer_id}')\n",
        "    print(f'    partner_id:      {row.partner_id}')\n",
        "    print(f'    opportunity_id:      {row.opportunity_id}')\n",
        "    print(f'    customer_name:      {row.customer_name}')\n",
        "    print(f'    sentiment:      {row.sentiment}')\n",
        "\n",
        "print('\\n...')"
      ],
      "metadata": {
        "colab": {
          "base_uri": "https://localhost:8080/"
        },
        "id": "A4cgsK4K5Z_l",
        "outputId": "09058e72-91cc-4951-a7f0-9d1407f7d39a"
      },
      "id": "A4cgsK4K5Z_l",
      "execution_count": 35,
      "outputs": [
        {
          "output_type": "stream",
          "name": "stdout",
          "text": [
            "\n",
            "Row 0:\n",
            "    customer_id:      CUS100\n",
            "    partner_id:      AWS\n",
            "    opportunity_id:      WS-8a7128a3\n",
            "    customer_name:      Teradyne, Inc.\n",
            "    sentiment:      positive\n",
            "\n",
            "Row 1:\n",
            "    customer_id:      CUS100\n",
            "    partner_id:      AWS\n",
            "    opportunity_id:      WS-8a3b0348\n",
            "    customer_name:      Teradyne, Inc.\n",
            "    sentiment:      positive\n",
            "\n",
            "Row 2:\n",
            "    customer_id:      CUS100\n",
            "    partner_id:      AWS\n",
            "    opportunity_id:      WS-7202838a\n",
            "    customer_name:      Teradyne, Inc.\n",
            "    sentiment:      positive\n",
            "\n",
            "...\n"
          ]
        }
      ]
    },
    {
      "cell_type": "markdown",
      "source": [
        "Identify opportunities with next step to schedule a meeting"
      ],
      "metadata": {
        "id": "RvHXXjLL8vfh"
      },
      "id": "RvHXXjLL8vfh"
    },
    {
      "cell_type": "code",
      "source": [
        "vectorsearchon = 'next action to set up a meeting'\n",
        "embedding = openai.Embedding.create(input= vectorsearchon, model=model_id)['data'][0]['embedding']\n",
        "\n",
        "cqlSelect = f'''SELECT * FROM workspan.customer_opportunities WHERE customer_id = 'CUS100' and partner_id = 'AWS' and llm_output : 'schedule a meeting' ORDER BY llm_output_embedding ANN OF {embedding} LIMIT 10;  '''\n",
        "rows = session.execute(cqlSelect)\n",
        "for row_i, row in enumerate(rows):\n",
        "    print(f'\\nRow {row_i}:')\n",
        "    print(f'    customer_id:      {row.customer_id}')\n",
        "    print(f'    partner_id:      {row.partner_id}')\n",
        "    print(f'    opportunity_id:      {row.opportunity_id}')\n",
        "    print(f'    customer_name:      {row.customer_name}')\n",
        "    print(f'    sentiment:      {row.sentiment}')\n",
        "    print(f'    llm_output:    \\n  {row.llm_output}')\n",
        "\n",
        "print('\\n...')\n"
      ],
      "metadata": {
        "colab": {
          "base_uri": "https://localhost:8080/"
        },
        "id": "a8HJPTwC8wH5",
        "outputId": "912dffd7-6ea3-435e-956d-91bca5ddc2c8"
      },
      "id": "a8HJPTwC8wH5",
      "execution_count": 36,
      "outputs": [
        {
          "output_type": "stream",
          "name": "stdout",
          "text": [
            "\n",
            "Row 0:\n",
            "    customer_id:      CUS100\n",
            "    partner_id:      AWS\n",
            "    opportunity_id:      WS-8a038b8a\n",
            "    customer_name:      Teradyne, Inc.\n",
            "    sentiment:      neutral\n",
            "    llm_output:    \n",
            "  Challenges:\n",
            "1. Ensuring that the recording of the last call and our discussed inputs from demo 8/28 are sent in a timely manner.\n",
            "2. Reviewing the Technical and Economic proposal may require a significant amount of time and expertise.\n",
            "\n",
            "Next Steps:\n",
            "1. Autumn must send the recording of the last call and their discussed inputs from demo 8/28.\n",
            "2. Ramesh needs to provide the aforementioned resources to Caroline by early next week (of 9/11).\n",
            "3. Reviewing the Technical and Economic proposal.\n",
            "\n",
            "Open Items:\n",
            "1. Waiting for Autumn to complete the task of sending the recording and discussed inputs.\n",
            "2. Expecting Ramesh to provide resources to Caroline by early next week.\n",
            "3. Review of the Technical and Economic proposal is still pending.\n",
            "\n",
            "Schedule a Meeting:\n",
            "No meetings to be scheduled as per the information provided.\n",
            "\n",
            "Row 1:\n",
            "    customer_id:      CUS100\n",
            "    partner_id:      AWS\n",
            "    opportunity_id:      WS-7202838a\n",
            "    customer_name:      Teradyne, Inc.\n",
            "    sentiment:      positive\n",
            "    llm_output:    \n",
            "  Challenges:\n",
            "1. Identified from the available information, a challenge is the deprioritization confirmed by Michael. However, further context is needed to ascertain the exact nature of this challenge.\n",
            "\n",
            "Next Steps:\n",
            "1. On 08/16/2023, review partner information updates and update opportunity details.\n",
            "2. On 08/17/2023, LR is to connect with the Partner to offer co-sell support.\n",
            "\n",
            "Open Items:\n",
            "1. Scheduling of meeting as mentioned by Anjaney needs to be confirmed.\n",
            "\n",
            "Schedule a Meeting:\n",
            "1. Anjaney to schedule a call with Nirav/Amy on R&D.\n",
            "\n",
            "Row 2:\n",
            "    customer_id:      CUS100\n",
            "    partner_id:      AWS\n",
            "    opportunity_id:      WS-8a3b0348\n",
            "    customer_name:      Teradyne, Inc.\n",
            "    sentiment:      positive\n",
            "    llm_output:    \n",
            "  Challenges:\n",
            "1. Coordinating with all parties involved in the joint sync and enablement session.\n",
            "2. Engaging with Federico Gandolfo for deal support.\n",
            "\n",
            "Next Steps:\n",
            "1. Conduct the joint sync on 9/7 followed by an enablement session and in-person account mapping.\n",
            "2. Contact and coordinate with Federico Gandolfo to discuss deal support on 07/05/2023.\n",
            "\n",
            "Open Items:\n",
            "1. Begin coordination between Caroline and Michael for the joint sync and enablement session.\n",
            "2. Establishing EAI presence.\n",
            "\n",
            "Schedule a Meeting: \n",
            "1. A joint sync is scheduled for 9/7.\n",
            "2. A meeting with Federico Gandolfo needs to be arranged on 07/05/2023.\n",
            "\n",
            "Row 3:\n",
            "    customer_id:      CUS100\n",
            "    partner_id:      AWS\n",
            "    opportunity_id:      WS-8a7128a3\n",
            "    customer_name:      Teradyne, Inc.\n",
            "    sentiment:      positive\n",
            "    llm_output:    \n",
            "  Challenges:\n",
            "1. Getting initial data from the user community.\n",
            "2. Pulling together a PoV for a client.\n",
            "3. Reaching out to Deloitte users for questions and feedback, especially those that haven't responded.\n",
            "\n",
            "Next Steps:\n",
            "1. Asan and Ken will initiate an in-person outreach to Deloitte users and follow up on the 5 responses received. \n",
            "2. Caroline will continue to engage the user community to respond to questions. \n",
            "3. Federico Gandolfo needs to be contacted to discuss Deal support. \n",
            "\n",
            "Open Items: \n",
            "1. What is the strategy to get initial data from the user community?\n",
            "2. What would be the ideal PoV for the client?\n",
            "\n",
            "Schedule a Meeting:\n",
            "1. Federico Gandolfo needs to be contacted on 06/20/2023 to discuss Deal support.\n",
            "2. A second meeting with Federico Gandolfo needs to be scheduled on 07/05/2023 for further discussion on Deal support.\n",
            "\n",
            "...\n"
          ]
        }
      ]
    },
    {
      "cell_type": "markdown",
      "source": [
        "I want to know more about the customer and the challenges so that it is possible to plan accordingly (Implement query using agent framework such as LangChain, LlamaIndex..)"
      ],
      "metadata": {
        "id": "VUCjFRriuhYs"
      },
      "id": "VUCjFRriuhYs"
    },
    {
      "cell_type": "code",
      "source": [
        "vectorsearchon = 'find opportunity with listed challenges'\n",
        "embedding = openai.Embedding.create(input= vectorsearchon, model=model_id)['data'][0]['embedding']\n",
        "\n",
        "cqlSelect = f'''SELECT llm_output FROM workspan.customer_opportunities WHERE customer_id = 'CUS100' and partner_id = 'AWS' ORDER BY llm_output_embedding ANN OF {embedding} LIMIT 10;  '''\n",
        "rows = session.execute(cqlSelect)\n",
        "print(rows)\n",
        "documents = []\n",
        "for item in rows:\n",
        "    documents.append(Document(text=str(item)))\n",
        "    print(str(item))\n",
        "\n",
        "index = ListIndex.from_documents(documents)\n",
        "\n",
        "# set Logging to DEBUG for more detailed outputs\n",
        "query_engine = index.as_query_engine()\n",
        "response = query_engine.query(\"What are the Challenges?\")\n",
        "\n",
        "# visualize in console or web\n",
        "print(response)\n",
        "display(Markdown(f\"<b>{response}</b>\"))"
      ],
      "metadata": {
        "colab": {
          "base_uri": "https://localhost:8080/",
          "height": 564
        },
        "id": "dxdohOBTZqCI",
        "outputId": "fc37d424-233e-43d0-9bb6-26386affca91"
      },
      "id": "dxdohOBTZqCI",
      "execution_count": 37,
      "outputs": [
        {
          "output_type": "stream",
          "name": "stdout",
          "text": [
            "<cassandra.cluster.ResultSet object at 0x7910a4482650>\n",
            "Row(llm_output='Challenges:\\n1. Identified from the available information, a challenge is the deprioritization confirmed by Michael. However, further context is needed to ascertain the exact nature of this challenge.\\n\\nNext Steps:\\n1. On 08/16/2023, review partner information updates and update opportunity details.\\n2. On 08/17/2023, LR is to connect with the Partner to offer co-sell support.\\n\\nOpen Items:\\n1. Scheduling of meeting as mentioned by Anjaney needs to be confirmed.\\n\\nSchedule a Meeting:\\n1. Anjaney to schedule a call with Nirav/Amy on R&D.')\n",
            "Row(llm_output=\"Challenges:\\n1. Getting initial data from the user community.\\n2. Pulling together a PoV for a client.\\n3. Reaching out to Deloitte users for questions and feedback, especially those that haven't responded.\\n\\nNext Steps:\\n1. Asan and Ken will initiate an in-person outreach to Deloitte users and follow up on the 5 responses received. \\n2. Caroline will continue to engage the user community to respond to questions. \\n3. Federico Gandolfo needs to be contacted to discuss Deal support. \\n\\nOpen Items: \\n1. What is the strategy to get initial data from the user community?\\n2. What would be the ideal PoV for the client?\\n\\nSchedule a Meeting:\\n1. Federico Gandolfo needs to be contacted on 06/20/2023 to discuss Deal support.\\n2. A second meeting with Federico Gandolfo needs to be scheduled on 07/05/2023 for further discussion on Deal support.\")\n",
            "Row(llm_output='Challenges: \\n1. The proposal did not get approval. \\n2. There is no budget left.\\n\\nNext Steps:\\n1. No further follow up required.\\n\\nOpen Items:\\nNone\\n\\nSchedule a Meeting: \\nNone')\n",
            "Row(llm_output='Challenges:\\n1. Ensuring that the recording of the last call and our discussed inputs from demo 8/28 are sent in a timely manner.\\n2. Reviewing the Technical and Economic proposal may require a significant amount of time and expertise.\\n\\nNext Steps:\\n1. Autumn must send the recording of the last call and their discussed inputs from demo 8/28.\\n2. Ramesh needs to provide the aforementioned resources to Caroline by early next week (of 9/11).\\n3. Reviewing the Technical and Economic proposal.\\n\\nOpen Items:\\n1. Waiting for Autumn to complete the task of sending the recording and discussed inputs.\\n2. Expecting Ramesh to provide resources to Caroline by early next week.\\n3. Review of the Technical and Economic proposal is still pending.\\n\\nSchedule a Meeting:\\nNo meetings to be scheduled as per the information provided.')\n",
            "Row(llm_output='Challenges:\\n1. Coordinating with all parties involved in the joint sync and enablement session.\\n2. Engaging with Federico Gandolfo for deal support.\\n\\nNext Steps:\\n1. Conduct the joint sync on 9/7 followed by an enablement session and in-person account mapping.\\n2. Contact and coordinate with Federico Gandolfo to discuss deal support on 07/05/2023.\\n\\nOpen Items:\\n1. Begin coordination between Caroline and Michael for the joint sync and enablement session.\\n2. Establishing EAI presence.\\n\\nSchedule a Meeting: \\n1. A joint sync is scheduled for 9/7.\\n2. A meeting with Federico Gandolfo needs to be arranged on 07/05/2023.')\n",
            "The challenges mentioned in the context are:\n",
            "1. Identified deprioritization, but further context is needed to ascertain the exact nature of this challenge.\n",
            "2. Getting initial data from the user community.\n",
            "3. Pulling together a PoV for a client.\n",
            "4. Reaching out to Deloitte users for questions and feedback, especially those that haven't responded.\n",
            "5. The proposal did not get approval.\n",
            "6. There is no budget left.\n",
            "7. Ensuring that the recording of the last call and discussed inputs from demo are sent in a timely manner.\n",
            "8. Reviewing the Technical and Economic proposal may require a significant amount of time and expertise.\n",
            "9. Coordinating with all parties involved in the joint sync and enablement session.\n",
            "10. Engaging with Federico Gandolfo for deal support.\n"
          ]
        },
        {
          "output_type": "display_data",
          "data": {
            "text/plain": [
              "<IPython.core.display.Markdown object>"
            ],
            "text/markdown": "<b>The challenges mentioned in the context are:\n1. Identified deprioritization, but further context is needed to ascertain the exact nature of this challenge.\n2. Getting initial data from the user community.\n3. Pulling together a PoV for a client.\n4. Reaching out to Deloitte users for questions and feedback, especially those that haven't responded.\n5. The proposal did not get approval.\n6. There is no budget left.\n7. Ensuring that the recording of the last call and discussed inputs from demo are sent in a timely manner.\n8. Reviewing the Technical and Economic proposal may require a significant amount of time and expertise.\n9. Coordinating with all parties involved in the joint sync and enablement session.\n10. Engaging with Federico Gandolfo for deal support.</b>"
          },
          "metadata": {}
        }
      ]
    }
  ],
  "metadata": {
    "kernelspec": {
      "display_name": "Python 3 (ipykernel)",
      "language": "python",
      "name": "python3"
    },
    "language_info": {
      "codemirror_mode": {
        "name": "ipython",
        "version": 3
      },
      "file_extension": ".py",
      "mimetype": "text/x-python",
      "name": "python",
      "nbconvert_exporter": "python",
      "pygments_lexer": "ipython3",
      "version": "3.10.6"
    },
    "colab": {
      "provenance": []
    }
  },
  "nbformat": 4,
  "nbformat_minor": 5
}